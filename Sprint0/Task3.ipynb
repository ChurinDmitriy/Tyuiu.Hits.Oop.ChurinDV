{
 "cells": [
  {
   "cell_type": "markdown",
   "metadata": {},
   "source": [
    "<h1 style=\"color:DodgerBlue\">Индивидальный проект</h1>"
   ]
  },
  {
   "cell_type": "markdown",
   "metadata": {},
   "source": [
    "<h2 style=\"color:DodgerBlue\">Название проекта:</h2>\n",
    "\n",
    "----\n",
    "\n",
    "### Вариант задания 4\n"
   ]
  },
  {
   "cell_type": "markdown",
   "metadata": {},
   "source": [
    "<h2 style=\"color:DodgerBlue\">Описание проекта:</h2>\n",
    "\n",
    "----\n",
    "\n",
    "Создать базовый класс Supplier в C#, который будет представлять информацию о\n",
    "поставщиках товаров или услуг. На основе этого класса разработать 2-3\n",
    "производных класса, демонстрирующих принципы наследования и полиморфизма.\n",
    "В каждом из классов должны быть реализованы новые атрибуты и методы, а также\n",
    "переопределены некоторые методы базового класса для демонстрации\n",
    "полиморфизма.\n"
   ]
  },
  {
   "cell_type": "markdown",
   "metadata": {},
   "source": [
    "<h2 style=\"color:DodgerBlue\">Реализация:</h2>\n",
    "\n",
    "----"
   ]
  },
  {
   "cell_type": "code",
   "execution_count": 2,
   "metadata": {
    "dotnet_interactive": {
     "language": "csharp"
    },
    "polyglot_notebook": {
     "kernelName": "csharp"
    }
   },
   "outputs": [],
   "source": [
    "public class Supplier\n",
    "{\n",
    "    public int SupplierId;\n",
    "    public string CompanyName;\n",
    "    public string ProductType;\n",
    "    public string Price;\n",
    "\n",
    "    public virtual void GetCompanyInfo()\n",
    "    {\n",
    "        Console.WriteLine($\"Название компании: {CompanyName}, ID поставщика: {SupplierId}, Тип продукции: {ProductType}\")\n",
    "    }\n",
    "\n",
    "    public virtual void ProvideQuote()\n",
    "    {\n",
    "        \n",
    "        Console.WriteLine($\"Стоимость {ProductType}: {Price}\")\n",
    "    }\n",
    "\n",
    "    public virtual void SubmitOrder()\n",
    "    {\n",
    "        Console.WriteLine($\"Поставщик {SupplierId} отправил заказ для {CompanyName}\")\n",
    "    }\n",
    "\n",
    "    public class Manufacturer : Supplier\n",
    "    {\n",
    "        public int FoundedYear;\n",
    "        public override void ProvideQuote()\n",
    "        {\n",
    "            Console.WriteLine($\"Стоимость {ProductType} компании {CompanyName} {FoundedYear} года основания: {Price}\")\n",
    "        }\n",
    "    }\n",
    "\n",
    "    public class Retailer : Supplier\n",
    "    {\n",
    "        public string StoreLocation;\n",
    "        public override void SubmitOrder()\n",
    "        {\n",
    "            Console.WriteLine($\"Поставщик {SupplierId} отправил заказ для {CompanyName} в {StoreLocation}\")\n",
    "        }\n",
    "    }\n",
    "\n",
    "    public class Importer : Supplier\n",
    "    {\n",
    "        public string OriginCountry;\n",
    "        public override void GetCompanyInfo()\n",
    "        {\n",
    "            Console.WriteLine($\"Название компании: {CompanyName}, ID поставщика: {SupplierId}, Тип продукции: {ProductType}, Страна происхождения товара {OriginCountry}\")\n",
    "        }\n",
    "    }\n",
    "}\n",
    "\n",
    "var Manufacturer = new Manufacturer {CompanyName = \"Apple\", SupplierId = 1337228, ProductType = \"Смартфон\", FoundedYear = 1976, Price = 79999, StoreLocation = \"ул. Дмитрия Менделеева, 1а, ТРЦ Кристалл, 1 этаж, Тюмень, Тюменская обл., 625009\", OriginCountry = \"США\"}\n",
    "var Retailer = new Retailer {CompanyName = \"ReStore\", SupplierId = 2281337, ProductType = \"Продажа техники Apple\", FoundedYear = 2006, StoreLocation = \"ул. Дмитрия Менделеева, 1а, ТРЦ Кристалл, 1 этаж, Тюмень, Тюменская обл., 625009\", OriginCountry = \"США\"}\n",
    "var Importer = new Importer {CompanyName = \"ReStore\", SupplierId = 2281337, ProductType = \"Техника Apple\", FoundedYear = 2006, StoreLocation = \"ул. Дмитрия Менделеева, 1а, ТРЦ Кристалл, 1 этаж, Тюмень, Тюменская обл., 625009\", OriginCountry = \"США\"}\n",
    "\n",
    "Console.WriteLine();\n",
    "Manufacturer.GetCompanyInfo;\n",
    "Manufacturer.ProvideQuote;\n",
    "Manufacturer.SubmitOrder;\n",
    "\n",
    "Console.WriteLine();\n",
    "Retailer.GetCompanyInfo;\n",
    "Retailer.ProvideQuote;\n",
    "Retailer.SubmitOrder;\n",
    "\n",
    "Console.WriteLine();\n",
    "Importer.GetCompanyInfo;\n",
    "Importer.ProvideQuote;\n",
    "Importer.SubmitOrder;"
   ]
  },
  {
   "cell_type": "markdown",
   "metadata": {},
   "source": [
    "Название компании: Apple, ID поставщика: 1337228, Тип продукции: Смартфон\n",
    "Стоимость Смартфон компании Apple 1976 года основания: 79999\n",
    "Поставщик 1337228 отправил заказ для Apple\n",
    "\n",
    "Название компании: ReStore, ID поставщика: 2281337, Тип продукции: Продажа техники Apple\n",
    "Стоимость Смартфон: 79999\n",
    "Поставщик 2281337 отправил заказ для ReStore в ул. Дмитрия Менделеева, 1а, ТРЦ Кристалл, 1 этаж, Тюмень, Тюменская обл., 625009\n",
    "\n",
    "Название компании: ReStore, ID поставщика: 2281337, Тип продукции: Техника Apple, Страна происхождения товара США\n",
    "Стоимость Смартфон: 79999\n",
    "Поставщик 2281337 отправил заказ для ReStore в ул. Дмитрия Менделеева, 1а, ТРЦ Кристалл, 1 этаж, Тюмень, Тюменская обл., 625009"
   ]
  }
 ],
 "metadata": {
  "kernelspec": {
   "display_name": ".NET (C#)",
   "language": "C#",
   "name": ".net-csharp"
  },
  "polyglot_notebook": {
   "kernelInfo": {
    "defaultKernelName": "csharp",
    "items": [
     {
      "aliases": [],
      "languageName": "csharp",
      "name": "csharp"
     }
    ]
   }
  }
 },
 "nbformat": 4,
 "nbformat_minor": 2
}
